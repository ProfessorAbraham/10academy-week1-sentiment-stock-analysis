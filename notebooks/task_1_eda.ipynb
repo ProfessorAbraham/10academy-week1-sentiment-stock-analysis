{
  "nbformat": 4,
  "nbformat_minor": 0,
  "metadata": {
    "colab": {
      "provenance": [],
      "authorship_tag": "ABX9TyNl4Ds1EG03rk8vWLvpmXco",
      "include_colab_link": true
    },
    "kernelspec": {
      "name": "python3",
      "display_name": "Python 3"
    },
    "language_info": {
      "name": "python"
    }
  },
  "cells": [
    {
      "cell_type": "markdown",
      "metadata": {
        "id": "view-in-github",
        "colab_type": "text"
      },
      "source": [
        "<a href=\"https://colab.research.google.com/github/ProfessorAbraham/10academy-week1-sentiment-stock-analysis/blob/main/notebooks/task_1_eda.ipynb\" target=\"_parent\"><img src=\"https://colab.research.google.com/assets/colab-badge.svg\" alt=\"Open In Colab\"/></a>"
      ]
    },
    {
      "cell_type": "code",
      "execution_count": 1,
      "metadata": {
        "colab": {
          "base_uri": "https://localhost:8080/"
        },
        "id": "kGnmMkQLNHnP",
        "outputId": "e3a5c9bd-738b-445f-b635-28c741e5873f"
      },
      "outputs": [
        {
          "output_type": "stream",
          "name": "stdout",
          "text": [
            "Cloning into '10academy-week1-sentiment-stock-analysis'...\n",
            "remote: Enumerating objects: 19, done.\u001b[K\n",
            "remote: Counting objects: 100% (19/19), done.\u001b[K\n",
            "remote: Compressing objects: 100% (10/10), done.\u001b[K\n",
            "remote: Total 19 (delta 2), reused 15 (delta 2), pack-reused 0 (from 0)\u001b[K\n",
            "Receiving objects: 100% (19/19), 5.04 KiB | 5.04 MiB/s, done.\n",
            "Resolving deltas: 100% (2/2), done.\n"
          ]
        }
      ],
      "source": [
        "!git clone https://github.com/ProfessorAbraham/10academy-week1-sentiment-stock-analysis.git\n"
      ]
    },
    {
      "cell_type": "code",
      "source": [
        "!cd 10academy-week1-sentiment-stock-analysis"
      ],
      "metadata": {
        "id": "n9WCFrq8Onx2"
      },
      "execution_count": 7,
      "outputs": []
    },
    {
      "cell_type": "code",
      "source": [
        "import sys"
      ],
      "metadata": {
        "id": "hsfROqmYOqT1"
      },
      "execution_count": 5,
      "outputs": []
    },
    {
      "cell_type": "code",
      "source": [
        "sys.path.append('/content/10academy-week1-sentiment-stock-analysis/src')"
      ],
      "metadata": {
        "id": "2K2Zgj-HOwRJ"
      },
      "execution_count": 9,
      "outputs": []
    },
    {
      "cell_type": "code",
      "source": [
        "from google.colab import drive\n",
        "drive.mount('/content/drive')\n"
      ],
      "metadata": {
        "colab": {
          "base_uri": "https://localhost:8080/"
        },
        "id": "_ScBcdLoPCYj",
        "outputId": "22fc8bef-b15d-404f-f0fc-387700ac8248"
      },
      "execution_count": 10,
      "outputs": [
        {
          "output_type": "stream",
          "name": "stdout",
          "text": [
            "Mounted at /content/drive\n"
          ]
        }
      ]
    },
    {
      "cell_type": "code",
      "source": [
        "import os\n",
        "import pandas as pd\n",
        "\n",
        "folder_path = '/content/drive/MyDrive/yfinance_data'\n",
        "all_files = [os.path.join(folder_path, f) for f in os.listdir(folder_path) if f.endswith('.csv')]\n",
        "\n",
        "dfs = []\n",
        "for file in all_files:\n",
        "    df_temp = pd.read_csv(file)\n",
        "    symbol = os.path.splitext(os.path.basename(file))[0]\n",
        "    df_temp['stock'] = symbol\n",
        "    dfs.append(df_temp)\n",
        "\n",
        "stock_prices_df = pd.concat(dfs, ignore_index=True)\n",
        "print(stock_prices_df.head())\n"
      ],
      "metadata": {
        "colab": {
          "base_uri": "https://localhost:8080/"
        },
        "id": "2p05LiAySKZF",
        "outputId": "05314f70-901b-47c2-dac6-1adab42fbb26"
      },
      "execution_count": 11,
      "outputs": [
        {
          "output_type": "stream",
          "name": "stdout",
          "text": [
            "         Date      Open      High       Low     Close  Adj Close     Volume  \\\n",
            "0  2010-06-29  1.266667  1.666667  1.169333  1.592667   1.592667  281494500   \n",
            "1  2010-06-30  1.719333  2.028000  1.553333  1.588667   1.588667  257806500   \n",
            "2  2010-07-01  1.666667  1.728000  1.351333  1.464000   1.464000  123282000   \n",
            "3  2010-07-02  1.533333  1.540000  1.247333  1.280000   1.280000   77097000   \n",
            "4  2010-07-06  1.333333  1.333333  1.055333  1.074000   1.074000  103003500   \n",
            "\n",
            "   Dividends  Stock Splits                 stock  \n",
            "0        0.0           0.0  TSLA_historical_data  \n",
            "1        0.0           0.0  TSLA_historical_data  \n",
            "2        0.0           0.0  TSLA_historical_data  \n",
            "3        0.0           0.0  TSLA_historical_data  \n",
            "4        0.0           0.0  TSLA_historical_data  \n"
          ]
        }
      ]
    },
    {
      "cell_type": "code",
      "source": [
        "analyst_csv_path = '/content/drive/MyDrive/raw_analyst_ratings.csv'\n",
        "import pandas as pd\n",
        "\n",
        "analyst_df = pd.read_csv(analyst_csv_path)\n",
        "print(analyst_df.head())\n"
      ],
      "metadata": {
        "colab": {
          "base_uri": "https://localhost:8080/"
        },
        "id": "SqVR_ZkFU_U-",
        "outputId": "e62d89ec-d28e-444a-a2b9-db12d28e69bf"
      },
      "execution_count": 12,
      "outputs": [
        {
          "output_type": "stream",
          "name": "stdout",
          "text": [
            "   Unnamed: 0                                           headline  \\\n",
            "0           0            Stocks That Hit 52-Week Highs On Friday   \n",
            "1           1         Stocks That Hit 52-Week Highs On Wednesday   \n",
            "2           2                      71 Biggest Movers From Friday   \n",
            "3           3       46 Stocks Moving In Friday's Mid-Day Session   \n",
            "4           4  B of A Securities Maintains Neutral on Agilent...   \n",
            "\n",
            "                                                 url          publisher  \\\n",
            "0  https://www.benzinga.com/news/20/06/16190091/s...  Benzinga Insights   \n",
            "1  https://www.benzinga.com/news/20/06/16170189/s...  Benzinga Insights   \n",
            "2  https://www.benzinga.com/news/20/05/16103463/7...         Lisa Levin   \n",
            "3  https://www.benzinga.com/news/20/05/16095921/4...         Lisa Levin   \n",
            "4  https://www.benzinga.com/news/20/05/16095304/b...         Vick Meyer   \n",
            "\n",
            "                        date stock  \n",
            "0  2020-06-05 10:30:54-04:00     A  \n",
            "1  2020-06-03 10:45:20-04:00     A  \n",
            "2  2020-05-26 04:30:07-04:00     A  \n",
            "3  2020-05-22 12:45:06-04:00     A  \n",
            "4  2020-05-22 11:38:59-04:00     A  \n"
          ]
        }
      ]
    },
    {
      "cell_type": "code",
      "source": [],
      "metadata": {
        "id": "iYxyY_11VRHu"
      },
      "execution_count": null,
      "outputs": []
    }
  ]
}